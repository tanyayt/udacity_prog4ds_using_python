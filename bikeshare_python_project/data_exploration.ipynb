{
 "cells": [
  {
   "cell_type": "markdown",
   "metadata": {},
   "source": [
    "# Practice and Data Exploration"
   ]
  },
  {
   "cell_type": "markdown",
   "metadata": {},
   "source": [
    "## Explore chicago.csv"
   ]
  },
  {
   "cell_type": "code",
   "execution_count": 4,
   "metadata": {
    "scrolled": true
   },
   "outputs": [
    {
     "name": "stdout",
     "output_type": "stream",
     "text": [
      "   Unnamed: 0           Start Time             End Time  Trip Duration  \\\n",
      "0     1423854  2017-06-23 15:09:32  2017-06-23 15:14:53            321   \n",
      "1      955915  2017-05-25 18:19:03  2017-05-25 18:45:53           1610   \n",
      "2        9031  2017-01-04 08:27:49  2017-01-04 08:34:45            416   \n",
      "3      304487  2017-03-06 13:49:38  2017-03-06 13:55:28            350   \n",
      "4       45207  2017-01-17 14:53:07  2017-01-17 15:02:01            534   \n",
      "\n",
      "                   Start Station                   End Station   User Type  \\\n",
      "0           Wood St & Hubbard St       Damen Ave & Chicago Ave  Subscriber   \n",
      "1            Theater on the Lake  Sheffield Ave & Waveland Ave  Subscriber   \n",
      "2             May St & Taylor St           Wood St & Taylor St  Subscriber   \n",
      "3  Christiana Ave & Lawrence Ave  St. Louis Ave & Balmoral Ave  Subscriber   \n",
      "4         Clark St & Randolph St  Desplaines St & Jackson Blvd  Subscriber   \n",
      "\n",
      "   Gender  Birth Year  \n",
      "0    Male      1992.0  \n",
      "1  Female      1992.0  \n",
      "2    Male      1981.0  \n",
      "3    Male      1986.0  \n",
      "4    Male      1975.0  \n"
     ]
    }
   ],
   "source": [
    "import pandas as pd\n",
    "\n",
    "df = pd.read_csv('chicago.csv') # load chicago.csv in a Pandas dataframe\n",
    "print(df.head()) # view the first 5 rows"
   ]
  },
  {
   "cell_type": "code",
   "execution_count": 5,
   "metadata": {},
   "outputs": [
    {
     "data": {
      "text/plain": [
       "Index(['Unnamed: 0', 'Start Time', 'End Time', 'Trip Duration',\n",
       "       'Start Station', 'End Station', 'User Type', 'Gender', 'Birth Year'],\n",
       "      dtype='object')"
      ]
     },
     "execution_count": 5,
     "metadata": {},
     "output_type": "execute_result"
    }
   ],
   "source": [
    "df.columns #view columns in the database"
   ]
  },
  {
   "cell_type": "code",
   "execution_count": 6,
   "metadata": {},
   "outputs": [
    {
     "data": {
      "text/html": [
       "<div>\n",
       "<style scoped>\n",
       "    .dataframe tbody tr th:only-of-type {\n",
       "        vertical-align: middle;\n",
       "    }\n",
       "\n",
       "    .dataframe tbody tr th {\n",
       "        vertical-align: top;\n",
       "    }\n",
       "\n",
       "    .dataframe thead th {\n",
       "        text-align: right;\n",
       "    }\n",
       "</style>\n",
       "<table border=\"1\" class=\"dataframe\">\n",
       "  <thead>\n",
       "    <tr style=\"text-align: right;\">\n",
       "      <th></th>\n",
       "      <th>Unnamed: 0</th>\n",
       "      <th>Trip Duration</th>\n",
       "      <th>Birth Year</th>\n",
       "    </tr>\n",
       "  </thead>\n",
       "  <tbody>\n",
       "    <tr>\n",
       "      <th>count</th>\n",
       "      <td>3.000000e+05</td>\n",
       "      <td>300000.000000</td>\n",
       "      <td>238981.000000</td>\n",
       "    </tr>\n",
       "    <tr>\n",
       "      <th>mean</th>\n",
       "      <td>7.763458e+05</td>\n",
       "      <td>936.239290</td>\n",
       "      <td>1980.858223</td>\n",
       "    </tr>\n",
       "    <tr>\n",
       "      <th>std</th>\n",
       "      <td>4.481464e+05</td>\n",
       "      <td>1548.792767</td>\n",
       "      <td>11.003329</td>\n",
       "    </tr>\n",
       "    <tr>\n",
       "      <th>min</th>\n",
       "      <td>4.000000e+00</td>\n",
       "      <td>60.000000</td>\n",
       "      <td>1899.000000</td>\n",
       "    </tr>\n",
       "    <tr>\n",
       "      <th>25%</th>\n",
       "      <td>3.871368e+05</td>\n",
       "      <td>393.000000</td>\n",
       "      <td>1975.000000</td>\n",
       "    </tr>\n",
       "    <tr>\n",
       "      <th>50%</th>\n",
       "      <td>7.771035e+05</td>\n",
       "      <td>670.000000</td>\n",
       "      <td>1984.000000</td>\n",
       "    </tr>\n",
       "    <tr>\n",
       "      <th>75%</th>\n",
       "      <td>1.164065e+06</td>\n",
       "      <td>1125.000000</td>\n",
       "      <td>1989.000000</td>\n",
       "    </tr>\n",
       "    <tr>\n",
       "      <th>max</th>\n",
       "      <td>1.551500e+06</td>\n",
       "      <td>86224.000000</td>\n",
       "      <td>2016.000000</td>\n",
       "    </tr>\n",
       "  </tbody>\n",
       "</table>\n",
       "</div>"
      ],
      "text/plain": [
       "         Unnamed: 0  Trip Duration     Birth Year\n",
       "count  3.000000e+05  300000.000000  238981.000000\n",
       "mean   7.763458e+05     936.239290    1980.858223\n",
       "std    4.481464e+05    1548.792767      11.003329\n",
       "min    4.000000e+00      60.000000    1899.000000\n",
       "25%    3.871368e+05     393.000000    1975.000000\n",
       "50%    7.771035e+05     670.000000    1984.000000\n",
       "75%    1.164065e+06    1125.000000    1989.000000\n",
       "max    1.551500e+06   86224.000000    2016.000000"
      ]
     },
     "execution_count": 6,
     "metadata": {},
     "output_type": "execute_result"
    }
   ],
   "source": [
    "df.describe() #view descriptive stats in df"
   ]
  },
  {
   "cell_type": "code",
   "execution_count": 7,
   "metadata": {},
   "outputs": [
    {
     "name": "stdout",
     "output_type": "stream",
     "text": [
      "<class 'pandas.core.frame.DataFrame'>\n",
      "RangeIndex: 300000 entries, 0 to 299999\n",
      "Data columns (total 9 columns):\n",
      " #   Column         Non-Null Count   Dtype  \n",
      "---  ------         --------------   -----  \n",
      " 0   Unnamed: 0     300000 non-null  int64  \n",
      " 1   Start Time     300000 non-null  object \n",
      " 2   End Time       300000 non-null  object \n",
      " 3   Trip Duration  300000 non-null  int64  \n",
      " 4   Start Station  300000 non-null  object \n",
      " 5   End Station    300000 non-null  object \n",
      " 6   User Type      300000 non-null  object \n",
      " 7   Gender         238948 non-null  object \n",
      " 8   Birth Year     238981 non-null  float64\n",
      "dtypes: float64(1), int64(2), object(6)\n",
      "memory usage: 20.6+ MB\n"
     ]
    }
   ],
   "source": [
    "df.info() #view element types "
   ]
  },
  {
   "cell_type": "code",
   "execution_count": 8,
   "metadata": {},
   "outputs": [
    {
     "data": {
      "text/plain": [
       "Male      181190\n",
       "Female     57758\n",
       "Name: Gender, dtype: int64"
      ]
     },
     "execution_count": 8,
     "metadata": {},
     "output_type": "execute_result"
    }
   ],
   "source": [
    "df['Gender'].value_counts()"
   ]
  },
  {
   "cell_type": "code",
   "execution_count": 9,
   "metadata": {},
   "outputs": [
    {
     "data": {
      "text/plain": [
       "1989.0    14666\n",
       "1988.0    12490\n",
       "1991.0    12397\n",
       "1990.0    12378\n",
       "1987.0    11939\n",
       "          ...  \n",
       "2002.0        2\n",
       "1909.0        2\n",
       "2003.0        2\n",
       "1931.0        1\n",
       "2004.0        1\n",
       "Name: Birth Year, Length: 79, dtype: int64"
      ]
     },
     "execution_count": 9,
     "metadata": {},
     "output_type": "execute_result"
    }
   ],
   "source": [
    "df['Birth Year'].value_counts()"
   ]
  },
  {
   "cell_type": "code",
   "execution_count": 10,
   "metadata": {},
   "outputs": [
    {
     "data": {
      "text/plain": [
       "Streeter Dr & Grand Ave         6911\n",
       "Clinton St & Washington Blvd    4306\n",
       "Lake Shore Dr & Monroe St       4289\n",
       "Clinton St & Madison St         3744\n",
       "Canal St & Adams St             3443\n",
       "                                ... \n",
       "Ellis Ave & 83rd St                1\n",
       "Laramie Ave & Kinzie St            1\n",
       "Throop St & 52nd St                1\n",
       "Racine Ave & 65th St               1\n",
       "Greenwood Ave & 79th St            1\n",
       "Name: Start Station, Length: 568, dtype: int64"
      ]
     },
     "execution_count": 10,
     "metadata": {},
     "output_type": "execute_result"
    }
   ],
   "source": [
    "df['Start Station'].value_counts()"
   ]
  },
  {
   "cell_type": "code",
   "execution_count": 11,
   "metadata": {},
   "outputs": [
    {
     "data": {
      "text/plain": [
       "Streeter Dr & Grand Ave         7512\n",
       "Clinton St & Washington Blvd    4166\n",
       "Lake Shore Dr & Monroe St       4016\n",
       "Clinton St & Madison St         4014\n",
       "Lake Shore Dr & North Blvd      3863\n",
       "                                ... \n",
       "Stony Island Ave & 82nd St         1\n",
       "Calumet Ave & 71st St              1\n",
       "Ashland Ave & 69th St              1\n",
       "Cicero Ave & Quincy St             1\n",
       "Cicero Ave & Flournoy St           1\n",
       "Name: End Station, Length: 572, dtype: int64"
      ]
     },
     "execution_count": 11,
     "metadata": {},
     "output_type": "execute_result"
    }
   ],
   "source": [
    "df['End Station'].value_counts()"
   ]
  },
  {
   "cell_type": "markdown",
   "metadata": {},
   "source": [
    "## Practice 1: Compute the Most Popular Start Hour\n",
    "\n",
    "* Use pandas to load chicago.csv as a dataframe \n",
    "* Find the most frequent hour when people start travelling\n",
    "    * create an hour column by extracting from 'Start Time' column\n",
    "    * use mode to find the most common value "
   ]
  },
  {
   "cell_type": "code",
   "execution_count": 15,
   "metadata": {},
   "outputs": [
    {
     "data": {
      "text/plain": [
       "17"
      ]
     },
     "execution_count": 15,
     "metadata": {},
     "output_type": "execute_result"
    }
   ],
   "source": [
    "filename = 'chicago.csv'\n",
    "\n",
    "# load data file into a dataframe\n",
    "df = pd.read_csv(filename)\n",
    "\n",
    "# convert the Start Time column to datetime\n",
    "df['Start Time'] =pd.to_datetime(df['Start Time']) \n",
    "\n",
    "# # extract hour from the Start Time column to create an hour column\n",
    "df['hour'] = df['Start Time'].dt.hour #dt.hour returns hour \n",
    "\n",
    "# # find the most common hour (from 0 to 23)\n",
    "popular_hour = df['hour'].mode()[0] # get mode of each column\n",
    "popular_hour\n",
    "    \n",
    "# print('Most Frequent Start Hour:', popular_hour)"
   ]
  },
  {
   "cell_type": "markdown",
   "metadata": {},
   "source": [
    "## Practice 2: Display a breakdown of user types \n",
    "\n",
    "Find how many user types there are in 'User Type' column and store the counts in a pandas Series in the user_types variable "
   ]
  },
  {
   "cell_type": "code",
   "execution_count": 17,
   "metadata": {},
   "outputs": [
    {
     "name": "stdout",
     "output_type": "stream",
     "text": [
      "Subscriber    238889\n",
      "Customer       61110\n",
      "Dependent          1\n",
      "Name: User Type, dtype: int64\n"
     ]
    }
   ],
   "source": [
    "filename = 'chicago.csv'\n",
    "\n",
    "# load data file into a dataframe\n",
    "df = pd.read_csv(filename) \n",
    "\n",
    "# print value counts for each user type\n",
    "user_types = df['User Type'].value_counts()\n",
    "\n",
    "print(user_types)"
   ]
  },
  {
   "cell_type": "markdown",
   "metadata": {},
   "source": [
    "## Practice 3 Load and filter the dataset \n",
    "\n",
    "Load data, create month and day_of_week, filter by month, filter by day of week "
   ]
  },
  {
   "cell_type": "code",
   "execution_count": 43,
   "metadata": {},
   "outputs": [
    {
     "data": {
      "text/html": [
       "<div>\n",
       "<style scoped>\n",
       "    .dataframe tbody tr th:only-of-type {\n",
       "        vertical-align: middle;\n",
       "    }\n",
       "\n",
       "    .dataframe tbody tr th {\n",
       "        vertical-align: top;\n",
       "    }\n",
       "\n",
       "    .dataframe thead th {\n",
       "        text-align: right;\n",
       "    }\n",
       "</style>\n",
       "<table border=\"1\" class=\"dataframe\">\n",
       "  <thead>\n",
       "    <tr style=\"text-align: right;\">\n",
       "      <th></th>\n",
       "      <th>Unnamed: 0</th>\n",
       "      <th>Start Time</th>\n",
       "      <th>End Time</th>\n",
       "      <th>Trip Duration</th>\n",
       "      <th>Start Station</th>\n",
       "      <th>End Station</th>\n",
       "      <th>User Type</th>\n",
       "      <th>Gender</th>\n",
       "      <th>Birth Year</th>\n",
       "      <th>month</th>\n",
       "      <th>day_of_week</th>\n",
       "    </tr>\n",
       "  </thead>\n",
       "  <tbody>\n",
       "    <tr>\n",
       "      <th>37</th>\n",
       "      <td>395803</td>\n",
       "      <td>2017-03-24 15:35:55</td>\n",
       "      <td>2017-03-24 15:46:10</td>\n",
       "      <td>615</td>\n",
       "      <td>Dearborn St &amp; Erie St</td>\n",
       "      <td>State St &amp; Van Buren St</td>\n",
       "      <td>Subscriber</td>\n",
       "      <td>Male</td>\n",
       "      <td>1989.0</td>\n",
       "      <td>3</td>\n",
       "      <td>Friday</td>\n",
       "    </tr>\n",
       "    <tr>\n",
       "      <th>93</th>\n",
       "      <td>395735</td>\n",
       "      <td>2017-03-24 15:32:04</td>\n",
       "      <td>2017-03-24 15:52:53</td>\n",
       "      <td>1249</td>\n",
       "      <td>Sedgwick St &amp; Webster Ave</td>\n",
       "      <td>Western Ave &amp; Winnebago Ave</td>\n",
       "      <td>Subscriber</td>\n",
       "      <td>Female</td>\n",
       "      <td>1964.0</td>\n",
       "      <td>3</td>\n",
       "      <td>Friday</td>\n",
       "    </tr>\n",
       "    <tr>\n",
       "      <th>175</th>\n",
       "      <td>395402</td>\n",
       "      <td>2017-03-24 15:10:29</td>\n",
       "      <td>2017-03-24 15:19:44</td>\n",
       "      <td>555</td>\n",
       "      <td>Franklin St &amp; Monroe St</td>\n",
       "      <td>Aberdeen St &amp; Monroe St</td>\n",
       "      <td>Subscriber</td>\n",
       "      <td>Male</td>\n",
       "      <td>1987.0</td>\n",
       "      <td>3</td>\n",
       "      <td>Friday</td>\n",
       "    </tr>\n",
       "    <tr>\n",
       "      <th>190</th>\n",
       "      <td>393400</td>\n",
       "      <td>2017-03-24 12:29:30</td>\n",
       "      <td>2017-03-24 12:48:56</td>\n",
       "      <td>1166</td>\n",
       "      <td>Southport Ave &amp; Wellington Ave</td>\n",
       "      <td>Lake Shore Dr &amp; North Blvd</td>\n",
       "      <td>Subscriber</td>\n",
       "      <td>Female</td>\n",
       "      <td>1984.0</td>\n",
       "      <td>3</td>\n",
       "      <td>Friday</td>\n",
       "    </tr>\n",
       "    <tr>\n",
       "      <th>198</th>\n",
       "      <td>427496</td>\n",
       "      <td>2017-03-31 08:25:53</td>\n",
       "      <td>2017-03-31 08:39:09</td>\n",
       "      <td>796</td>\n",
       "      <td>Clinton St &amp; Jackson Blvd</td>\n",
       "      <td>Racine Ave (May St) &amp; Fulton St</td>\n",
       "      <td>Subscriber</td>\n",
       "      <td>Male</td>\n",
       "      <td>1983.0</td>\n",
       "      <td>3</td>\n",
       "      <td>Friday</td>\n",
       "    </tr>\n",
       "  </tbody>\n",
       "</table>\n",
       "</div>"
      ],
      "text/plain": [
       "     Unnamed: 0          Start Time             End Time  Trip Duration  \\\n",
       "37       395803 2017-03-24 15:35:55  2017-03-24 15:46:10            615   \n",
       "93       395735 2017-03-24 15:32:04  2017-03-24 15:52:53           1249   \n",
       "175      395402 2017-03-24 15:10:29  2017-03-24 15:19:44            555   \n",
       "190      393400 2017-03-24 12:29:30  2017-03-24 12:48:56           1166   \n",
       "198      427496 2017-03-31 08:25:53  2017-03-31 08:39:09            796   \n",
       "\n",
       "                      Start Station                      End Station  \\\n",
       "37            Dearborn St & Erie St          State St & Van Buren St   \n",
       "93        Sedgwick St & Webster Ave      Western Ave & Winnebago Ave   \n",
       "175         Franklin St & Monroe St          Aberdeen St & Monroe St   \n",
       "190  Southport Ave & Wellington Ave       Lake Shore Dr & North Blvd   \n",
       "198       Clinton St & Jackson Blvd  Racine Ave (May St) & Fulton St   \n",
       "\n",
       "      User Type  Gender  Birth Year  month day_of_week  \n",
       "37   Subscriber    Male      1989.0      3      Friday  \n",
       "93   Subscriber  Female      1964.0      3      Friday  \n",
       "175  Subscriber    Male      1987.0      3      Friday  \n",
       "190  Subscriber  Female      1984.0      3      Friday  \n",
       "198  Subscriber    Male      1983.0      3      Friday  "
      ]
     },
     "execution_count": 43,
     "metadata": {},
     "output_type": "execute_result"
    }
   ],
   "source": [
    "import pandas as pd\n",
    "\n",
    "CITY_DATA = { 'chicago': 'chicago.csv',\n",
    "              'new york city': 'new_york_city.csv',\n",
    "              'washington': 'washington.csv' }\n",
    "\n",
    "def load_data(city, month, day):\n",
    "    \"\"\"\n",
    "    Loads data for the specified city and filters by month and day if applicable.\n",
    "\n",
    "    Args:\n",
    "        (str) city - name of the city to analyze\n",
    "        (str) month - name of the month to filter by, or \"all\" to apply no month filter\n",
    "        (str) day - name of the day of week to filter by, or \"all\" to apply no day filter\n",
    "    Returns:\n",
    "        df - Pandas DataFrame containing city data filtered by month and day\n",
    "    \"\"\"\n",
    "\n",
    "    # load data file into a dataframe\n",
    "    df = pd.read_csv(CITY_DATA[city])\n",
    "\n",
    "    # convert the Start Time column to datetime\n",
    "    df['Start Time'] = pd.to_datetime(df['Start Time'])\n",
    "\n",
    "    # extract month and day of week from Start Time to create new columns\n",
    "    df['month'] = df['Start Time'].dt.month\n",
    "    df['day_of_week'] = df['Start Time'].dt.day_name()\n",
    "\n",
    "    # filter by month if applicable\n",
    "    if month != 'all':\n",
    "        # use the index of the months list to get the corresponding int\n",
    "        months = ['january', 'february', 'march', 'april', 'may', 'june']\n",
    "        month = months.index(month) + 1\n",
    "\n",
    "        # filter by month to create the new dataframe\n",
    "        df = df[df['month'] == month]\n",
    "\n",
    "    # filter by day of week if applicable\n",
    "    if day != 'all':\n",
    "        # filter by day of week to create the new dataframe\n",
    "        df = df[df['day_of_week'] == day.title()] #change input day to title case \n",
    "\n",
    "    return df\n",
    "\n",
    "df = load_data('chicago', 'march', 'friday')\n",
    "df.head()\n"
   ]
  },
  {
   "cell_type": "markdown",
   "metadata": {},
   "source": [
    "## Month distribution"
   ]
  },
  {
   "cell_type": "code",
   "execution_count": 9,
   "metadata": {},
   "outputs": [
    {
     "name": "stdout",
     "output_type": "stream",
     "text": [
      "chicago's month distribution /n\n"
     ]
    },
    {
     "data": {
      "text/plain": [
       "6    98081\n",
       "5    66755\n",
       "4    51659\n",
       "2    32057\n",
       "3    29639\n",
       "1    21809\n",
       "Name: month, dtype: int64"
      ]
     },
     "execution_count": 9,
     "metadata": {},
     "output_type": "execute_result"
    }
   ],
   "source": [
    "# view month distribution in chicago.csv \n",
    "\n",
    "import pandas as pd\n",
    "\n",
    "def month_distribution(filename):\n",
    "    #filename is the filename for the city\n",
    "    df = pd.read_csv(filename)\n",
    "    df['month']=pd.to_datetime(df['Start Time']).dt.month\n",
    "    return df['month'].value_counts()\n",
    "\n",
    "print(\"chicago's month distribution /n\")\n",
    "month_distribution('chicago.csv')\n",
    "\n",
    "# print(\"new york's month dist/n\")\n",
    "# month_distribution('new_york_city.csv')\n",
    "\n",
    "# print(\"washington's month dist/n\")\n",
    "# month_distribution('washington.csv')\n"
   ]
  },
  {
   "cell_type": "markdown",
   "metadata": {},
   "source": [
    "# Jupyter Notebook Tips \n",
    "\n",
    "M for markdown cell\n",
    "DD to delete cell \n",
    "\n",
    "A/B to add new cells above or below \n",
    "\n",
    "Ctrl+enter to run cell\n",
    "\n",
    "enter to edit cell: enter\n",
    "\n",
    "comment out: ctrl + forward slash /\n"
   ]
  }
 ],
 "metadata": {
  "kernelspec": {
   "display_name": "Python 3",
   "language": "python",
   "name": "python3"
  },
  "language_info": {
   "codemirror_mode": {
    "name": "ipython",
    "version": 3
   },
   "file_extension": ".py",
   "mimetype": "text/x-python",
   "name": "python",
   "nbconvert_exporter": "python",
   "pygments_lexer": "ipython3",
   "version": "3.7.6"
  },
  "toc-autonumbering": true
 },
 "nbformat": 4,
 "nbformat_minor": 4
}

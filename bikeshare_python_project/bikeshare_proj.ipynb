{
 "cells": [
  {
   "cell_type": "markdown",
   "metadata": {},
   "source": [
    "# Exploring Bikeshare Database\n",
    "\n",
    "## Summary \n",
    "\n",
    "xx"
   ]
  },
  {
   "cell_type": "code",
   "execution_count": null,
   "metadata": {},
   "outputs": [],
   "source": [
    "# import packages \n",
    "import pandas as pd"
   ]
  },
  {
   "cell_type": "code",
   "execution_count": null,
   "metadata": {},
   "outputs": [],
   "source": [
    "# get city value from input\n",
    "\n",
    "def get_city():\n",
    "    \"\"\"Ask the user to enter a city name and return the filename for the city's bikeshare data\n",
    "    Args: none\n",
    "    Returns: valid city name\"\"\"\n",
    "    city=''\n",
    "    valid_cities =['chicago','new york','washington']\n",
    "    \n",
    "    \n",
    "    while city not in valid_cities:\n",
    "        city=input('Would you like to see data for Chicago, New York or Washington?\\n').lower().strip()\n",
    "        if city in valid_cities:\n",
    "            return city\n",
    "        else:\n",
    "            print(\"Sorry, please enter one of the following city names:Chicago, New York, or Washington\")"
   ]
  },
  {
   "cell_type": "code",
   "execution_count": null,
   "metadata": {},
   "outputs": [],
   "source": [
    "# get month/day/none filter from user input \n",
    "\n",
    "def get_filter_period():\n",
    "    \"\"\"ask the user to choose a period for filter, from month, day or none\n",
    "    args: none \n",
    "    returns: a string of either 'month','day','none'\n",
    "    \"\"\"\n",
    "    filter_period=''\n",
    "    while filter_period not in ['month','day','none']: \n",
    "        filter_period=input('Would you like to filter data, by month or day? Type \"none\" for no time filter \\n')\n",
    "        filter_period=filter_period.lower().strip()\n",
    "        if filter_period not in ['month','day','none']:\n",
    "            print(\"Sorry. Please type one of the following:'month', 'day', or 'none' \")\n",
    "    return filter_period"
   ]
  },
  {
   "cell_type": "code",
   "execution_count": null,
   "metadata": {},
   "outputs": [],
   "source": [
    "# define a function to get month value\n",
    "\n",
    "def get_month():\n",
    "    \"\"\"ask the user to enter a month name, return the month string\n",
    "    args:\n",
    "        none\n",
    "    returns: \n",
    "        month string\"\"\"\n",
    "    month=''\n",
    "    \n",
    "    valid_months = ['janurary', 'february', 'march','april','may','june']\n",
    "    \n",
    "    while month not in valid_months : \n",
    "        month = input('Which month? Enter one of the following:janurary, feburary, march, april, may or june.\\n')\n",
    "        month = month.lower().strip()\n",
    "        if month not in valid_months:\n",
    "            print(\"Sorry. Please enter one of the following:janurary, feburary, march, april, may or june.\\n\")\n",
    "        else: \n",
    "            return month"
   ]
  },
  {
   "cell_type": "code",
   "execution_count": null,
   "metadata": {},
   "outputs": [],
   "source": [
    "def get_weekday():\n",
    "    \"\"\"ask users to enter day value\n",
    "    args: \n",
    "        none\n",
    "    returns:\n",
    "        valid weekday entered by user\"\"\"\n",
    "    weekday =''\n",
    "    weekdays=['Monday','Tuesday','Wednesday','Thursday','Friday','Saturday','Sunday']\n",
    "    \n",
    "    while weekday not in weekdays : \n",
    "        weekday = input(\"Which day - Monday, Tuesday, Wednesday, Thursday, Friday, Saturday, or Sunday?\\n\")\n",
    "        weekday = weekday.title().strip()\n",
    "        if weekday not in weekdays:\n",
    "            print(\"Sorry, please type one of the following: Monday, Tuesday, Wednesday, Thursday, Friday, Saturday, or Sunday\")\n",
    "        else: \n",
    "            return weekday\n",
    "    \n",
    "    "
   ]
  },
  {
   "cell_type": "code",
   "execution_count": null,
   "metadata": {},
   "outputs": [],
   "source": [
    "CITY_DATA = { 'chicago': 'chicago.csv',\n",
    "              'new york city': 'new_york_city.csv',\n",
    "              'washington': 'washington.csv' }\n",
    "\n",
    "def load_data(city, month, day):\n",
    "    \"\"\"\n",
    "    Loads data for the specified city and filters by month and day if applicable.\n",
    "\n",
    "    Args:\n",
    "        (str) city - name of the city to analyze\n",
    "        (str) month - name of the month to filter by, or \"all\" to apply no month filter\n",
    "        (str) day - name of the day of week to filter by, or \"all\" to apply no day filter\n",
    "    Returns:\n",
    "        df - Pandas DataFrame containing city data filtered by month and day\n",
    "    \"\"\"\n",
    "\n",
    "    # load data file into a dataframe\n",
    "    df = pd.read_csv(CITY_DATA[city],index_col=0)\n",
    "\n",
    "    # convert the Start Time column to datetime\n",
    "    df['Start Time'] = pd.to_datetime(df['Start Time'])\n",
    "\n",
    "    # extract month and day of week from Start Time to create new columns\n",
    "    df['month'] = df['Start Time'].dt.month\n",
    "    df['day_of_week'] = df['Start Time'].dt.day_name()\n",
    "\n",
    "    # filter by month if applicable\n",
    "    if month != 'all':\n",
    "        # use the index of the months list to get the corresponding int\n",
    "        months = ['january', 'february', 'march', 'april', 'may', 'june']\n",
    "        month = months.index(month) + 1\n",
    "\n",
    "        # filter by month to create the new dataframe\n",
    "        df = df[df['month'] == month]\n",
    "\n",
    "    # filter by day of week if applicable\n",
    "    if day != 'all':\n",
    "        # filter by day of week to create the new dataframe\n",
    "        df = df[df['day_of_week'] == day.title()] #change input day to title case \n",
    "\n",
    "    return df\n",
    "\n",
    "df = load_data(get_city(), get_month(), get_weekday())\n",
    "\n",
    "df.head()\n"
   ]
  }
 ],
 "metadata": {
  "kernelspec": {
   "display_name": "Python 3",
   "language": "python",
   "name": "python3"
  },
  "language_info": {
   "codemirror_mode": {
    "name": "ipython",
    "version": 3
   },
   "file_extension": ".py",
   "mimetype": "text/x-python",
   "name": "python",
   "nbconvert_exporter": "python",
   "pygments_lexer": "ipython3",
   "version": "3.7.6"
  },
  "toc-showcode": false,
  "toc-showtags": false
 },
 "nbformat": 4,
 "nbformat_minor": 4
}

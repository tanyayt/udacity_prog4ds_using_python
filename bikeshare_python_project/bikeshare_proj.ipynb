{
 "cells": [
  {
   "cell_type": "markdown",
   "metadata": {},
   "source": [
    "# Exploring Bikeshare Database\n",
    "\n",
    "## Summary \n",
    "\n",
    "xx"
   ]
  },
  {
   "cell_type": "code",
   "execution_count": null,
   "metadata": {},
   "outputs": [],
   "source": [
    "# import packages \n",
    "import pd as pd"
   ]
  },
  {
   "cell_type": "code",
   "execution_count": 19,
   "metadata": {},
   "outputs": [],
   "source": [
    "# get city value from input\n",
    "\n",
    "def get_city():\n",
    "    \"\"\"Ask the user to enter a city name and return the filename for the city's bikeshare data\n",
    "    Args: none\n",
    "    Returns: a string for a city's bikeshare data's filename\"\"\"\n",
    "    city=''\n",
    "    \n",
    "    CITY_DATA = { 'chicago': 'chicago.csv',\n",
    "              'new york city': 'new_york_city.csv',\n",
    "              'washington': 'washington.csv' }\n",
    "    \n",
    "    while city not in CITY_DATA.keys():\n",
    "        city=input('Pleas select a city for bikeshare data: Chicago, New York or Washington?\\n').lower().strip()\n",
    "        if city in CITY_DATA.keys():\n",
    "            return CITY_DATA[city]\n",
    "        else:\n",
    "            print(\"Sorry, please enter one of the following city names:Chicago, New York, or Washington\")"
   ]
  },
  {
   "cell_type": "code",
   "execution_count": 26,
   "metadata": {},
   "outputs": [
    {
     "name": "stdin",
     "output_type": "stream",
     "text": [
      "How would you like to filter data, by month or day? Type \"none\" for no time filter \n",
      "                 month\n"
     ]
    },
    {
     "data": {
      "text/plain": [
       "'month'"
      ]
     },
     "execution_count": 26,
     "metadata": {},
     "output_type": "execute_result"
    }
   ],
   "source": [
    "# get month/day/none filter from user input \n",
    "\n",
    "def get_filter_period():\n",
    "    \"\"\"ask the user to choose a period for filter, from month, day or none\n",
    "    args: none \n",
    "    returns: a string of either 'month','day','none'\n",
    "    \"\"\"\n",
    "    filter_period=''\n",
    "    while filter_period not in ['month','day','none']: \n",
    "        filter_period=input('How would you like to filter data, by month or day? Type \"none\" for no time filter \\n')\n",
    "        filter_period=filter_period.lower().strip()\n",
    "        if filter_period not in ['month','day','none']:\n",
    "            print(\"Sorry. Please type one of the following:'month', 'day', or 'none' \")\n",
    "    return filter_period\n",
    "\n",
    "get_filter_period()"
   ]
  },
  {
   "cell_type": "code",
   "execution_count": null,
   "metadata": {},
   "outputs": [],
   "source": [
    "# define a function to get month value\n",
    "\n",
    "def get_month():\n",
    "    \"\"\"ask the user to enter a month name, return the month string\n",
    "    args:\n",
    "        none\n",
    "    returns: \n",
    "        month string\"\"\"\n",
    "    month=''\n",
    "    \n",
    "    while ~~~~~~~ : \n",
    "        month = input('Which month?')"
   ]
  },
  {
   "cell_type": "code",
   "execution_count": 16,
   "metadata": {},
   "outputs": [
    {
     "data": {
      "text/plain": [
       "'chicago.csv'"
      ]
     },
     "execution_count": 16,
     "metadata": {},
     "output_type": "execute_result"
    }
   ],
   "source": [
    "# playground \n",
    "\n"
   ]
  }
 ],
 "metadata": {
  "kernelspec": {
   "display_name": "Python 3",
   "language": "python",
   "name": "python3"
  },
  "language_info": {
   "codemirror_mode": {
    "name": "ipython",
    "version": 3
   },
   "file_extension": ".py",
   "mimetype": "text/x-python",
   "name": "python",
   "nbconvert_exporter": "python",
   "pygments_lexer": "ipython3",
   "version": "3.7.6"
  },
  "toc-showcode": false,
  "toc-showtags": false
 },
 "nbformat": 4,
 "nbformat_minor": 4
}
